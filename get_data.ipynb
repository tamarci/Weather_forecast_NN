{
 "cells": [
  {
   "cell_type": "code",
   "execution_count": 1,
   "id": "a473ab07",
   "metadata": {},
   "outputs": [],
   "source": [
    "#!pip install selenium"
   ]
  },
  {
   "cell_type": "code",
   "execution_count": 468,
   "id": "4c974e67",
   "metadata": {},
   "outputs": [],
   "source": [
    "import selenium\n",
    "from selenium import webdriver\n",
    "\n",
    "from selenium.webdriver.common.keys import Keys\n",
    "from selenium.webdriver.common.by import By\n",
    "from selenium.webdriver.support.ui import Select\n",
    "import time\n",
    "\n",
    "import warnings\n",
    "warnings.filterwarnings(\"ignore\")"
   ]
  },
  {
   "cell_type": "code",
   "execution_count": 170,
   "id": "c8817a56",
   "metadata": {},
   "outputs": [],
   "source": [
    "#get data from table\n",
    "def get_data_from_table(days, month):\n",
    "    json_lines=[]\n",
    "    table= driver.find_element(By.TAG_NAME,'table')\n",
    "    rws = table.find_elements(By.TAG_NAME,'tr')\n",
    "    for row in rws:\n",
    "        cols=row.find_elements(By.TAG_NAME,'td')\n",
    "        if len(cols)>0:\n",
    "            days += 1\n",
    "            json_lines.append({\n",
    "                'Day': str(days),\n",
    "                'Month': str(month),\n",
    "                'Min': cols[1].text,\n",
    "                'Max': cols[2].text})\n",
    "    return  json_lines\n",
    "\n",
    "    "
   ]
  },
  {
   "cell_type": "code",
   "execution_count": 171,
   "id": "648b3fb9",
   "metadata": {},
   "outputs": [],
   "source": [
    "#get months\n",
    "Months=['Január','Február','Március','Április','Május','Június','Július','Augusztus','Szeptember','Október','November','December']\n",
    "def getMonths(days,limit=12):\n",
    "    json_data=[]\n",
    "   \n",
    "    for i in range(len(Months)):\n",
    "        if i < limit:\n",
    "            \n",
    "            selectMonth= Select(driver.find_element(By.ID,'ho'))\n",
    "            searchButton= driver.find_element(By.ID,'button')\n",
    "            selectMonth.select_by_visible_text(Months[i])\n",
    "            searchButton.click()\n",
    "            json_data= json_data + get_data_from_table(days,i+1)\n",
    "            days=len(json_data)\n",
    "            \n",
    "    return json_data"
   ]
  },
  {
   "cell_type": "code",
   "execution_count": 172,
   "id": "af17de90",
   "metadata": {},
   "outputs": [],
   "source": [
    "def getYears():\n",
    "    json_data=[]\n",
    "    for year in range(2012,2022):\n",
    "        days = 0\n",
    "        selectYear=  Select(driver.find_element(By.ID,'ev'))\n",
    "        selectYear.select_by_visible_text(str(year))\n",
    "        if year==2021:\n",
    "            json_data = json_data + getMonths(days,limit=11)\n",
    "        else:\n",
    "            json_data = json_data + getMonths(days)\n",
    "    \n",
    "    \n",
    "        \n",
    "    return json_data   "
   ]
  },
  {
   "cell_type": "code",
   "execution_count": 173,
   "id": "5411245d",
   "metadata": {},
   "outputs": [
    {
     "name": "stderr",
     "output_type": "stream",
     "text": [
      "C:\\Users\\Marci\\AppData\\Local\\Temp/ipykernel_12284/958212860.py:3: DeprecationWarning: executable_path has been deprecated, please pass in a Service object\n",
      "  driver = webdriver.Chrome(executable_path=\"C:\\\\chromedriver.exe\")\n"
     ]
    }
   ],
   "source": [
    "\n",
    "#browser exposes an executable file\n",
    "#invoke actual browser\n",
    "driver = webdriver.Chrome(executable_path=\"C:\\\\chromedriver.exe\")\n",
    "# to maximize the browser window\n",
    "driver.maximize_window()\n",
    "#get method to launch the URL\n",
    "driver.get(\"http://idojarasbudapest.hu/archivalt-idojaras\")\n",
    "data = getYears()\n",
    "    \n",
    "driver.close()"
   ]
  },
  {
   "cell_type": "code",
   "execution_count": 174,
   "id": "d3d459e0",
   "metadata": {},
   "outputs": [],
   "source": [
    "import json \n",
    "with open('data.json', 'w') as outfile:\n",
    "            json.dump(data, outfile)"
   ]
  },
  {
   "cell_type": "code",
   "execution_count": 202,
   "id": "bf27002c",
   "metadata": {},
   "outputs": [],
   "source": [
    "with open('data.json') as infile:\n",
    "            data=json.load(infile)\n",
    "day_data=[]\n",
    "\n",
    "for day in data:\n",
    "    day_data.append([int(day['Day']),int(day['Month']),float(day['Min']),float(day['Max'])])"
   ]
  },
  {
   "cell_type": "code",
   "execution_count": 351,
   "id": "c0585b02",
   "metadata": {},
   "outputs": [],
   "source": [
    "def preprocess_data(data):\n",
    "    X=[]\n",
    "    Y=[]\n",
    "    for i in range(7,len(data)):\n",
    "        X.append([data[i][0], data[i-1][2],data[i-1][3],data[i-2][2],data[i-2][3],data[i-3][2],data[i-3][3],data[i-4][2],data[i-4][3],data[i-5][2],data[i-5][3],data[i-6][2],data[i-6][3],data[i-7][2],data[i-7][3]])\n",
    "        avg_temp = (data[i][2]+data[i][3])/2\n",
    "        Y.append(avg_temp)\n",
    "    return X,Y"
   ]
  },
  {
   "cell_type": "code",
   "execution_count": 363,
   "id": "6aa81f69",
   "metadata": {},
   "outputs": [],
   "source": [
    "def alt_preprocess_data(data):\n",
    "    X=[]\n",
    "    Y=[]\n",
    "    for i in range(7,len(data)):\n",
    "        X.append([data[i][0], (data[i-1][2]+data[i-1][3])/2,(data[i-2][2]+data[i-2][3])/2,(data[i-3][2]+data[i-3][3])/2,(data[i-4][2]+data[i-4][3])/2,(data[i-5][2]+data[i-5][3])/2,(data[i-6][2]+data[i-6][3])/2,(data[i-7][2]+data[i-7][3])/2])\n",
    "        avg_temp = (data[i][2]+data[i][3])/2\n",
    "        Y.append(avg_temp)\n",
    "    return X,Y"
   ]
  },
  {
   "cell_type": "code",
   "execution_count": 364,
   "id": "3725d2eb",
   "metadata": {},
   "outputs": [],
   "source": [
    "X,Y= alt_preprocess_data(day_data)\n",
    "\n",
    "\n",
    "nb_samples = len(Y)\n",
    "valid_split = 0.2; test_split = 0.1\n",
    "\n",
    "X_train = X[0:int(nb_samples*(1-valid_split-test_split))]\n",
    "Y_train = Y[0:int(nb_samples*(1-valid_split-test_split))]\n",
    "X_test  = X[int(nb_samples*(1-test_split)):]\n",
    "Y_test  = Y[int(nb_samples*(1-test_split)):]"
   ]
  },
  {
   "cell_type": "code",
   "execution_count": 365,
   "id": "d5fddfd5",
   "metadata": {},
   "outputs": [
    {
     "name": "stdout",
     "output_type": "stream",
     "text": [
      "8\n"
     ]
    }
   ],
   "source": [
    "print(len(X_train[0]))\n",
    "#print(X_train.shape)"
   ]
  },
  {
   "cell_type": "code",
   "execution_count": 366,
   "id": "79df6c12",
   "metadata": {},
   "outputs": [],
   "source": [
    "from sklearn import preprocessing\n",
    "import numpy as np\n",
    "\n",
    "X_train = np.array(X_train, dtype=np.float32)\n",
    "X_test  = np.array(X_test, dtype=np.float32)\n",
    "\n",
    "\n",
    "Y_train = np.array(Y_train, dtype=np.float32)\n",
    "Y_test  = np.array(Y_test, dtype=np.float32)\n",
    "\n",
    "\n",
    "#\n",
    "#X_train =X_train.astype(\"float32\")\n",
    "#X_valid =X_valid.astype(\"float32\")\n",
    "#X_test  =X_test.astype(\"float32\")\n",
    "\n",
    "\n",
    "scaler = preprocessing.StandardScaler().fit(X_train)\n",
    "X_train = scaler.transform(X_train)\n",
    "X_test  = scaler.transform(X_test)\n",
    "\n",
    "\n"
   ]
  },
  {
   "cell_type": "code",
   "execution_count": 374,
   "id": "95dcaf56",
   "metadata": {},
   "outputs": [],
   "source": [
    "from keras.models import Sequential\n",
    "import tensorflow as tf\n",
    "from tensorflow import keras\n",
    "from keras.layers import Dense\n",
    "from tensorflow.keras.optimizers import Adam\n",
    "\n",
    "model= Sequential()\n",
    "\n",
    "model.add(Dense(units=15,input_shape=(8,),activation='sigmoid'))\n",
    "model.add(Dense(units=256,activation='relu'))\n",
    "model.add(Dense(units=64,activation='sigmoid')) #wow you can really dense\n",
    "model.add(Dense(units=1,activation='linear'))\n",
    "          \n",
    "model.compile(loss='mse',optimizer=Adam(learning_rate=0.0005))"
   ]
  },
  {
   "cell_type": "code",
   "execution_count": 375,
   "id": "6d597cab",
   "metadata": {
    "scrolled": true
   },
   "outputs": [
    {
     "name": "stdout",
     "output_type": "stream",
     "text": [
      "Epoch 1/100\n",
      "51/51 - 1s - loss: 194.0453 - val_loss: 150.7972 - 601ms/epoch - 12ms/step\n",
      "Epoch 2/100\n",
      "51/51 - 0s - loss: 125.2303 - val_loss: 111.2036 - 117ms/epoch - 2ms/step\n",
      "Epoch 3/100\n",
      "51/51 - 0s - loss: 105.0199 - val_loss: 98.7875 - 161ms/epoch - 3ms/step\n",
      "Epoch 4/100\n",
      "51/51 - 0s - loss: 93.2650 - val_loss: 85.3183 - 225ms/epoch - 4ms/step\n",
      "Epoch 5/100\n",
      "51/51 - 0s - loss: 79.6500 - val_loss: 70.7407 - 160ms/epoch - 3ms/step\n",
      "Epoch 6/100\n",
      "51/51 - 0s - loss: 67.4444 - val_loss: 59.9894 - 127ms/epoch - 2ms/step\n",
      "Epoch 7/100\n",
      "51/51 - 0s - loss: 58.3316 - val_loss: 52.1328 - 123ms/epoch - 2ms/step\n",
      "Epoch 8/100\n",
      "51/51 - 0s - loss: 51.3665 - val_loss: 45.6467 - 127ms/epoch - 2ms/step\n",
      "Epoch 9/100\n",
      "51/51 - 0s - loss: 45.6830 - val_loss: 40.2588 - 138ms/epoch - 3ms/step\n",
      "Epoch 10/100\n",
      "51/51 - 0s - loss: 40.8046 - val_loss: 35.6066 - 134ms/epoch - 3ms/step\n",
      "Epoch 11/100\n",
      "51/51 - 0s - loss: 36.6367 - val_loss: 31.4932 - 138ms/epoch - 3ms/step\n",
      "Epoch 12/100\n",
      "51/51 - 0s - loss: 33.1019 - val_loss: 28.0860 - 126ms/epoch - 2ms/step\n",
      "Epoch 13/100\n",
      "51/51 - 0s - loss: 29.9694 - val_loss: 25.1647 - 117ms/epoch - 2ms/step\n",
      "Epoch 14/100\n",
      "51/51 - 0s - loss: 27.2904 - val_loss: 22.7090 - 115ms/epoch - 2ms/step\n",
      "Epoch 15/100\n",
      "51/51 - 0s - loss: 24.9179 - val_loss: 20.6272 - 118ms/epoch - 2ms/step\n",
      "Epoch 16/100\n",
      "51/51 - 0s - loss: 22.8953 - val_loss: 18.6931 - 117ms/epoch - 2ms/step\n",
      "Epoch 17/100\n",
      "51/51 - 0s - loss: 21.0393 - val_loss: 17.0434 - 117ms/epoch - 2ms/step\n",
      "Epoch 18/100\n",
      "51/51 - 0s - loss: 19.5111 - val_loss: 15.5796 - 120ms/epoch - 2ms/step\n",
      "Epoch 19/100\n",
      "51/51 - 0s - loss: 18.0062 - val_loss: 14.3535 - 120ms/epoch - 2ms/step\n",
      "Epoch 20/100\n",
      "51/51 - 0s - loss: 16.7543 - val_loss: 13.2564 - 153ms/epoch - 3ms/step\n",
      "Epoch 21/100\n",
      "51/51 - 0s - loss: 15.5895 - val_loss: 12.2895 - 134ms/epoch - 3ms/step\n",
      "Epoch 22/100\n",
      "51/51 - 0s - loss: 14.5619 - val_loss: 11.4152 - 132ms/epoch - 3ms/step\n",
      "Epoch 23/100\n",
      "51/51 - 0s - loss: 13.5868 - val_loss: 10.7159 - 122ms/epoch - 2ms/step\n",
      "Epoch 24/100\n",
      "51/51 - 0s - loss: 12.8712 - val_loss: 9.9653 - 123ms/epoch - 2ms/step\n",
      "Epoch 25/100\n",
      "51/51 - 0s - loss: 12.0522 - val_loss: 9.3852 - 130ms/epoch - 3ms/step\n",
      "Epoch 26/100\n",
      "51/51 - 0s - loss: 11.3471 - val_loss: 8.7791 - 142ms/epoch - 3ms/step\n",
      "Epoch 27/100\n",
      "51/51 - 0s - loss: 10.7828 - val_loss: 8.3072 - 139ms/epoch - 3ms/step\n",
      "Epoch 28/100\n",
      "51/51 - 0s - loss: 10.2426 - val_loss: 7.9506 - 133ms/epoch - 3ms/step\n",
      "Epoch 29/100\n",
      "51/51 - 0s - loss: 9.7742 - val_loss: 7.5209 - 175ms/epoch - 3ms/step\n",
      "Epoch 30/100\n",
      "51/51 - 0s - loss: 9.3373 - val_loss: 7.2307 - 181ms/epoch - 4ms/step\n",
      "Epoch 31/100\n",
      "51/51 - 0s - loss: 8.9632 - val_loss: 6.9242 - 140ms/epoch - 3ms/step\n",
      "Epoch 32/100\n",
      "51/51 - 0s - loss: 8.6200 - val_loss: 6.7387 - 123ms/epoch - 2ms/step\n",
      "Epoch 33/100\n",
      "51/51 - 0s - loss: 8.3818 - val_loss: 6.5646 - 111ms/epoch - 2ms/step\n",
      "Epoch 34/100\n",
      "51/51 - 0s - loss: 8.0936 - val_loss: 6.3246 - 119ms/epoch - 2ms/step\n",
      "Epoch 35/100\n",
      "51/51 - 0s - loss: 7.8005 - val_loss: 6.3351 - 194ms/epoch - 4ms/step\n",
      "Epoch 36/100\n",
      "51/51 - 0s - loss: 7.6498 - val_loss: 5.9782 - 182ms/epoch - 4ms/step\n",
      "Epoch 37/100\n",
      "51/51 - 0s - loss: 7.4154 - val_loss: 5.8017 - 144ms/epoch - 3ms/step\n",
      "Epoch 38/100\n",
      "51/51 - 0s - loss: 7.2379 - val_loss: 5.6510 - 115ms/epoch - 2ms/step\n",
      "Epoch 39/100\n",
      "51/51 - 0s - loss: 7.0839 - val_loss: 5.5619 - 206ms/epoch - 4ms/step\n",
      "Epoch 40/100\n",
      "51/51 - 0s - loss: 6.9086 - val_loss: 5.4975 - 164ms/epoch - 3ms/step\n",
      "Epoch 41/100\n",
      "51/51 - 0s - loss: 6.7699 - val_loss: 5.4959 - 138ms/epoch - 3ms/step\n",
      "Epoch 42/100\n",
      "51/51 - 0s - loss: 6.6926 - val_loss: 5.3333 - 122ms/epoch - 2ms/step\n",
      "Epoch 43/100\n",
      "51/51 - 0s - loss: 6.5129 - val_loss: 5.1935 - 124ms/epoch - 2ms/step\n",
      "Epoch 44/100\n",
      "51/51 - 0s - loss: 6.4254 - val_loss: 5.2109 - 116ms/epoch - 2ms/step\n",
      "Epoch 45/100\n",
      "51/51 - 0s - loss: 6.3464 - val_loss: 5.0672 - 128ms/epoch - 3ms/step\n",
      "Epoch 46/100\n",
      "51/51 - 0s - loss: 6.2301 - val_loss: 4.9813 - 151ms/epoch - 3ms/step\n",
      "Epoch 47/100\n",
      "51/51 - 0s - loss: 6.1853 - val_loss: 5.0140 - 149ms/epoch - 3ms/step\n",
      "Epoch 48/100\n",
      "51/51 - 0s - loss: 6.1360 - val_loss: 4.8955 - 157ms/epoch - 3ms/step\n",
      "Epoch 49/100\n",
      "51/51 - 0s - loss: 6.0016 - val_loss: 4.8552 - 137ms/epoch - 3ms/step\n",
      "Epoch 50/100\n",
      "51/51 - 0s - loss: 5.9273 - val_loss: 4.7955 - 136ms/epoch - 3ms/step\n",
      "Epoch 51/100\n",
      "51/51 - 0s - loss: 5.8590 - val_loss: 4.7612 - 124ms/epoch - 2ms/step\n",
      "Epoch 52/100\n",
      "51/51 - 0s - loss: 5.8618 - val_loss: 4.7099 - 129ms/epoch - 3ms/step\n",
      "Epoch 53/100\n",
      "51/51 - 0s - loss: 5.8107 - val_loss: 4.6759 - 147ms/epoch - 3ms/step\n",
      "Epoch 54/100\n",
      "51/51 - 0s - loss: 5.7925 - val_loss: 5.0049 - 137ms/epoch - 3ms/step\n",
      "Epoch 55/100\n",
      "51/51 - 0s - loss: 5.7370 - val_loss: 4.6385 - 144ms/epoch - 3ms/step\n",
      "Epoch 56/100\n",
      "51/51 - 0s - loss: 5.6354 - val_loss: 4.6148 - 126ms/epoch - 2ms/step\n",
      "Epoch 57/100\n",
      "51/51 - 0s - loss: 5.6205 - val_loss: 4.6254 - 128ms/epoch - 3ms/step\n",
      "Epoch 58/100\n",
      "51/51 - 0s - loss: 5.5893 - val_loss: 4.6272 - 141ms/epoch - 3ms/step\n",
      "Epoch 59/100\n",
      "51/51 - 0s - loss: 5.5865 - val_loss: 4.6534 - 138ms/epoch - 3ms/step\n",
      "Epoch 60/100\n",
      "51/51 - 0s - loss: 5.5592 - val_loss: 4.5643 - 138ms/epoch - 3ms/step\n",
      "Epoch 61/100\n",
      "51/51 - 0s - loss: 5.4720 - val_loss: 4.5218 - 138ms/epoch - 3ms/step\n",
      "Epoch 62/100\n",
      "51/51 - 0s - loss: 5.4807 - val_loss: 4.5596 - 120ms/epoch - 2ms/step\n",
      "Epoch 63/100\n",
      "51/51 - 0s - loss: 5.4582 - val_loss: 4.5267 - 120ms/epoch - 2ms/step\n",
      "Epoch 64/100\n",
      "51/51 - 0s - loss: 5.4522 - val_loss: 4.4964 - 156ms/epoch - 3ms/step\n",
      "Epoch 65/100\n",
      "51/51 - 0s - loss: 5.4107 - val_loss: 4.5922 - 143ms/epoch - 3ms/step\n",
      "Epoch 66/100\n",
      "51/51 - 0s - loss: 5.3780 - val_loss: 4.4728 - 136ms/epoch - 3ms/step\n",
      "Epoch 67/100\n",
      "51/51 - 0s - loss: 5.3728 - val_loss: 4.4593 - 130ms/epoch - 3ms/step\n",
      "Epoch 68/100\n",
      "51/51 - 0s - loss: 5.3953 - val_loss: 4.5008 - 125ms/epoch - 2ms/step\n",
      "Epoch 69/100\n",
      "51/51 - 0s - loss: 5.3280 - val_loss: 4.4944 - 148ms/epoch - 3ms/step\n",
      "Epoch 70/100\n",
      "51/51 - 0s - loss: 5.3082 - val_loss: 4.4608 - 156ms/epoch - 3ms/step\n",
      "Epoch 71/100\n",
      "51/51 - 0s - loss: 5.3175 - val_loss: 4.4620 - 144ms/epoch - 3ms/step\n",
      "Epoch 72/100\n",
      "51/51 - 0s - loss: 5.2905 - val_loss: 4.4248 - 146ms/epoch - 3ms/step\n",
      "Epoch 73/100\n",
      "51/51 - 0s - loss: 5.2632 - val_loss: 4.4354 - 142ms/epoch - 3ms/step\n",
      "Epoch 74/100\n",
      "51/51 - 0s - loss: 5.2467 - val_loss: 4.4583 - 144ms/epoch - 3ms/step\n",
      "Epoch 75/100\n",
      "51/51 - 0s - loss: 5.2371 - val_loss: 4.4141 - 145ms/epoch - 3ms/step\n",
      "Epoch 76/100\n",
      "51/51 - 0s - loss: 5.1831 - val_loss: 4.4759 - 139ms/epoch - 3ms/step\n",
      "Epoch 77/100\n",
      "51/51 - 0s - loss: 5.2197 - val_loss: 4.4214 - 143ms/epoch - 3ms/step\n",
      "Epoch 78/100\n",
      "51/51 - 0s - loss: 5.1720 - val_loss: 4.4312 - 129ms/epoch - 3ms/step\n",
      "Epoch 79/100\n",
      "51/51 - 0s - loss: 5.1942 - val_loss: 4.3981 - 123ms/epoch - 2ms/step\n",
      "Epoch 80/100\n",
      "51/51 - 0s - loss: 5.1472 - val_loss: 4.4696 - 119ms/epoch - 2ms/step\n",
      "Epoch 81/100\n",
      "51/51 - 0s - loss: 5.1698 - val_loss: 4.3957 - 116ms/epoch - 2ms/step\n",
      "Epoch 82/100\n",
      "51/51 - 0s - loss: 5.1414 - val_loss: 4.4792 - 118ms/epoch - 2ms/step\n",
      "Epoch 83/100\n",
      "51/51 - 0s - loss: 5.1577 - val_loss: 4.4448 - 114ms/epoch - 2ms/step\n",
      "Epoch 84/100\n",
      "51/51 - 0s - loss: 5.1444 - val_loss: 4.4510 - 122ms/epoch - 2ms/step\n",
      "Epoch 85/100\n",
      "51/51 - 0s - loss: 5.1104 - val_loss: 4.4272 - 151ms/epoch - 3ms/step\n",
      "Epoch 86/100\n",
      "51/51 - 0s - loss: 5.1203 - val_loss: 4.4207 - 143ms/epoch - 3ms/step\n",
      "Epoch 87/100\n",
      "51/51 - 0s - loss: 5.0884 - val_loss: 4.4152 - 136ms/epoch - 3ms/step\n",
      "Epoch 88/100\n",
      "51/51 - 0s - loss: 5.1809 - val_loss: 4.3896 - 164ms/epoch - 3ms/step\n",
      "Epoch 89/100\n",
      "51/51 - 0s - loss: 5.1115 - val_loss: 4.3813 - 121ms/epoch - 2ms/step\n",
      "Epoch 90/100\n",
      "51/51 - 0s - loss: 5.0645 - val_loss: 4.4159 - 119ms/epoch - 2ms/step\n",
      "Epoch 91/100\n",
      "51/51 - 0s - loss: 5.0810 - val_loss: 4.4422 - 133ms/epoch - 3ms/step\n",
      "Epoch 92/100\n",
      "51/51 - 0s - loss: 5.0937 - val_loss: 4.4228 - 151ms/epoch - 3ms/step\n",
      "Epoch 93/100\n",
      "51/51 - 0s - loss: 5.0788 - val_loss: 4.4732 - 137ms/epoch - 3ms/step\n",
      "Epoch 94/100\n",
      "51/51 - 0s - loss: 5.0725 - val_loss: 4.4497 - 134ms/epoch - 3ms/step\n",
      "Epoch 95/100\n",
      "51/51 - 0s - loss: 5.0564 - val_loss: 4.4181 - 120ms/epoch - 2ms/step\n",
      "Epoch 96/100\n",
      "51/51 - 0s - loss: 5.0716 - val_loss: 4.5247 - 128ms/epoch - 3ms/step\n",
      "Epoch 97/100\n",
      "51/51 - 0s - loss: 5.0646 - val_loss: 4.3871 - 137ms/epoch - 3ms/step\n",
      "Epoch 98/100\n",
      "51/51 - 0s - loss: 5.0750 - val_loss: 4.3943 - 139ms/epoch - 3ms/step\n",
      "Epoch 99/100\n"
     ]
    },
    {
     "name": "stdout",
     "output_type": "stream",
     "text": [
      "51/51 - 0s - loss: 5.0188 - val_loss: 4.4225 - 131ms/epoch - 3ms/step\n",
      "Epoch 100/100\n",
      "51/51 - 0s - loss: 5.0376 - val_loss: 4.3927 - 115ms/epoch - 2ms/step\n"
     ]
    }
   ],
   "source": [
    "history=model.fit(X_train,Y_train,epochs=100,verbose=2,batch_size=40, validation_split=0.2)"
   ]
  },
  {
   "cell_type": "code",
   "execution_count": 376,
   "id": "e0c8bfcd",
   "metadata": {},
   "outputs": [
    {
     "data": {
      "text/plain": [
       "<AxesSubplot:>"
      ]
     },
     "execution_count": 376,
     "metadata": {},
     "output_type": "execute_result"
    },
    {
     "data": {
      "image/png": "[encoded data removed]",
      "text/plain": [
       "<Figure size 864x576 with 1 Axes>"
      ]
     },
     "metadata": {
      "needs_background": "light"
     },
     "output_type": "display_data"
    }
   ],
   "source": [
    "import pandas as pd\n",
    "\n",
    "loss_df = pd.DataFrame(model.history.history)\n",
    "loss_df.plot(figsize=(12,8))\n"
   ]
  },
  {
   "cell_type": "code",
   "execution_count": 377,
   "id": "66d4e8fe",
   "metadata": {},
   "outputs": [],
   "source": [
    "Y_pred = model.predict(X_test)"
   ]
  },
  {
   "cell_type": "code",
   "execution_count": 378,
   "id": "29a9024b",
   "metadata": {
    "scrolled": false
   },
   "outputs": [
    {
     "name": "stdout",
     "output_type": "stream",
     "text": [
      "MAE: 1.6322433\n",
      "MSE: 4.4388514\n",
      "RMSE: 2.1068583\n",
      "VarScore: 0.9415145516395569\n"
     ]
    },
    {
     "data": {
      "image/png": "[encoded data removed]",
      "text/plain": [
       "<Figure size 720x360 with 1 Axes>"
      ]
     },
     "metadata": {
      "needs_background": "light"
     },
     "output_type": "display_data"
    }
   ],
   "source": [
    "from sklearn import metrics\n",
    "import matplotlib.pyplot as plt\n",
    "\n",
    "print('MAE:', metrics.mean_absolute_error(Y_test, Y_pred))  \n",
    "print('MSE:', metrics.mean_squared_error(Y_test, Y_pred))  \n",
    "print('RMSE:', np.sqrt(metrics.mean_squared_error(Y_test, Y_pred)))\n",
    "print('VarScore:',metrics.explained_variance_score(Y_test,Y_pred))\n",
    "\n",
    "# Visualizing Our predictions\n",
    "fig = plt.figure(figsize=(10,5))\n",
    "plt.scatter(Y_test,Y_pred)\n",
    "# Perfect predictions\n",
    "plt.plot(Y_test,Y_test,'r')\n",
    "plt.show()"
   ]
  },
  {
   "cell_type": "code",
   "execution_count": 466,
   "id": "5b354289",
   "metadata": {},
   "outputs": [],
   "source": [
    "def calc_temp_on_day_from_now(day):\n",
    "    future_X=[]\n",
    "    future_Y=[]\n",
    "    future_X.append(X[-1])#nov 6 ide megis a rendes x kell\n",
    "    future_X.append([future_X[0][0]+1,future_X[0][2],future_X[0][3],future_X[0][4],future_X[0][5],future_X[0][6],future_X[0][7],Y_test[-1]]) #nov 7\n",
    "    future_X_sc= scaler.transform(future_X)\n",
    "    \n",
    "    future_X_sc= np.array(future_X_sc, dtype=np.float32)\n",
    "    for i in range(day):\n",
    "        Y_pred = model.predict(future_X_sc)\n",
    "       # print(Y_pred)\n",
    "        future_Y=Y_pred\n",
    "        future_X.append([future_X[-1][0]+1,future_X[-1][2],future_X[-1][3],future_X[-1][4],future_X[-1][5],future_X[-1][6],future_X[-1][7],Y_pred[-1]])\n",
    "        future_X_sc= scaler.transform(future_X)\n",
    "        future_X_sc= np.array(future_X_sc, dtype=np.float32)\n",
    "    return future_Y\n",
    "      #  print(future_X)\n",
    "       \n",
    "    "
   ]
  },
  {
   "cell_type": "code",
   "execution_count": 470,
   "id": "b6c63d39",
   "metadata": {},
   "outputs": [
    {
     "name": "stdout",
     "output_type": "stream",
     "text": [
      "Predicted temp for nov. 8th:[10.054119]\n",
      "Predicted temp for nov. 15th:[10.44964]\n",
      "Predicted temp for dec. 6th:[10.987575]\n"
     ]
    }
   ],
   "source": [
    "#so calc temp for the days...\n",
    "\n",
    "\n",
    "#nov. 8 (312th day of the year) (2 days from out last data)\n",
    "pred_Y=calc_temp_on_day_from_now(2)\n",
    "pred_nov_8=pred_Y[-1]\n",
    "print('Predicted temp for nov. 8th:'+str(pred_nov_8))\n",
    "#nov. 15 (319th day of the year) (9 days from out last data)\n",
    "pred_Y=calc_temp_on_day_from_now(9)\n",
    "pred_nov_15=pred_Y[-1]\n",
    "print('Predicted temp for nov. 15th:'+str(pred_nov_15))\n",
    "\n",
    "#pred_nov_15=calc_temp_on_day_from_now(9)\n",
    "\n",
    "#dec. 6 (340th day of the year) (30 days from out last data)\n",
    "pred_Y=calc_temp_on_day_from_now(30)\n",
    "pred_dec_6=pred_Y[-1]\n",
    "print('Predicted temp for dec. 6th:'+str(pred_dec_6))\n",
    "#pred_nov_15=calc_temp_on_day_from_now(30)"
   ]
  },
  {
   "cell_type": "code",
   "execution_count": null,
   "id": "a05c9461",
   "metadata": {},
   "outputs": [],
   "source": []
  }
 ],
 "metadata": {
  "kernelspec": {
   "display_name": "Python 3 (ipykernel)",
   "language": "python",
   "name": "python3"
  },
  "language_info": {
   "codemirror_mode": {
    "name": "ipython",
    "version": 3
   },
   "file_extension": ".py",
   "mimetype": "text/x-python",
   "name": "python",
   "nbconvert_exporter": "python",
   "pygments_lexer": "ipython3",
   "version": "3.9.7"
  }
 },
 "nbformat": 4,
 "nbformat_minor": 5
}
