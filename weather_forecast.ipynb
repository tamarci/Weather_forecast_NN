{
 "cells": [
  {
   "cell_type": "markdown",
   "id": "471041a2",
   "metadata": {},
   "source": [
    "# Automatized datamining and weather forecast\n",
    "    \n",
    "    In this notebook we use datamining to get archived weather data from a website, then forecast the weather using linear regression."
   ]
  },
  {
   "cell_type": "code",
   "execution_count": 1,
   "id": "a473ab07",
   "metadata": {},
   "outputs": [],
   "source": [
    "#!pip install selenium"
   ]
  },
  {
   "cell_type": "code",
   "execution_count": 473,
   "id": "4c974e67",
   "metadata": {},
   "outputs": [],
   "source": [
    "#selenium for data mining and web tasks\n",
    "import selenium\n",
    "from selenium import webdriver\n",
    "\n",
    "from selenium.webdriver.common.keys import Keys\n",
    "from selenium.webdriver.common.by import By\n",
    "from selenium.webdriver.support.ui import Select\n",
    "import time\n",
    "\n",
    "import warnings\n",
    "warnings.filterwarnings(\"ignore\")"
   ]
  },
  {
   "cell_type": "code",
   "execution_count": 475,
   "id": "c8817a56",
   "metadata": {},
   "outputs": [],
   "source": [
    "#There is a table on the page filled with temperature data.\n",
    "#The function returns this in json format.\n",
    "def get_data_from_table(days, month):\n",
    "    json_lines=[]\n",
    "    csv_lines=[]\n",
    "    table= driver.find_element(By.TAG_NAME,'table')\n",
    "    rws = table.find_elements(By.TAG_NAME,'tr')\n",
    "    for row in rws:\n",
    "        cols=row.find_elements(By.TAG_NAME,'td')\n",
    "        if len(cols)>0:\n",
    "            days += 1\n",
    "            json_lines.append({\n",
    "                'Day': str(days),\n",
    "                'Month': str(month),\n",
    "                'Min': cols[1].text,\n",
    "                'Max': cols[2].text})\n",
    "            csv_lines.append([days,month,cols[1].text,cols[2].text])\n",
    "    return  json_lines, csv_lines  "
   ]
  },
  {
   "cell_type": "code",
   "execution_count": 476,
   "id": "648b3fb9",
   "metadata": {},
   "outputs": [],
   "source": [
    "#loops on all months in a year to get table data\n",
    "#Limit:current year current month as exit point\n",
    "Months=['Január','Február','Március','Április','Május','Június','Július','Augusztus','Szeptember','Október','November','December']\n",
    "def getMonths(days,limit=12):\n",
    "    json_data=[]\n",
    "    csv_data=[]\n",
    "    for i in range(len(Months)):\n",
    "        if i < limit:\n",
    "            selectMonth= Select(driver.find_element(By.ID,'ho'))\n",
    "            searchButton= driver.find_element(By.ID,'button')\n",
    "            selectMonth.select_by_visible_text(Months[i])\n",
    "            searchButton.click()\n",
    "            jsn,csv = get_data_from_table(days,i+1)\n",
    "            json_data= json_data + jsn\n",
    "            csv_data= csv_data + csv\n",
    "            days=len(json_data)\n",
    "            \n",
    "    return json_data, csv_data"
   ]
  },
  {
   "cell_type": "code",
   "execution_count": 490,
   "id": "af17de90",
   "metadata": {},
   "outputs": [],
   "source": [
    "#loops on all years in an interval to get data\n",
    "def get_data_from_web(start_year,end_year):\n",
    "    json_data=[]\n",
    "    csv_data=[]\n",
    "    for year in range(start_year,end_year):\n",
    "        days = 0\n",
    "        selectYear=  Select(driver.find_element(By.ID,'ev'))\n",
    "        selectYear.select_by_visible_text(str(year))\n",
    "        if year==2021:\n",
    "            json,csv = getMonths(days,limit=11)\n",
    "            json_data = json_data + json\n",
    "            csv_data = csv_data + csv\n",
    "        else:\n",
    "            json,csv = getMonths(days)\n",
    "            json_data = json_data + json\n",
    "            csv_data = csv_data + csv  \n",
    "    return json_data, csv_data"
   ]
  },
  {
   "cell_type": "code",
   "execution_count": 491,
   "id": "5411245d",
   "metadata": {
    "scrolled": true
   },
   "outputs": [],
   "source": [
    "# Invoke chrome browser\n",
    "# DOWNLOAD chromedriver\n",
    "driver = webdriver.Chrome(executable_path=\"C:\\\\chromedriver.exe\")\n",
    "\n",
    "# Maximize the browser window\n",
    "driver.maximize_window()\n",
    "\n",
    "# Url stores archived data of Budapest's weather\n",
    "driver.get(\"http://idojarasbudapest.hu/archivalt-idojaras\")\n",
    "\n",
    "start_year = 2012\n",
    "end_year = 2022\n",
    "\n",
    "data_json, data_csv = get_data_from_web(start_year,end_year)\n",
    "    \n",
    "driver.close()"
   ]
  },
  {
   "cell_type": "code",
   "execution_count": 492,
   "id": "d3d459e0",
   "metadata": {},
   "outputs": [],
   "source": [
    "# Write data into json\n",
    "import json \n",
    "with open('data.json', 'w') as outfile:\n",
    "            json.dump(data_json, outfile)\n",
    "\n",
    "import csv\n",
    "# Write data into csv  \n",
    "with open('data.csv', 'w', encoding='UTF8', newline='') as f:\n",
    "    writer = csv.writer(f)\n",
    "    writer.writerows(data_csv)"
   ]
  },
  {
   "cell_type": "code",
   "execution_count": 493,
   "id": "e8c18657",
   "metadata": {},
   "outputs": [],
   "source": [
    "#load data from json\n",
    "with open('data.json') as infile:\n",
    "            data=json.load(infile)\n",
    "day_data=[]\n",
    "\n",
    "for day in data:\n",
    "    day_data.append([int(day['Day']),int(day['Month']),float(day['Min']),float(day['Max'])])"
   ]
  },
  {
   "cell_type": "code",
   "execution_count": 494,
   "id": "d3bbb151",
   "metadata": {},
   "outputs": [],
   "source": [
    "# data structure in json is now:\n",
    "#[day_of_the_year, month, min_temperature_on_day, max_temperature_on_day]\n",
    "#the data vector for training the network for predicting the avg temperature on day((min+max)/2):\n",
    "#[day_of_the_year,last 7 days avg temperature values]\n",
    "def preprocess_data(data):\n",
    "    X=[]\n",
    "    Y=[]\n",
    "    for i in range(7,len(data)):\n",
    "        X.append([data[i][0], (data[i-1][2]+data[i-1][3])/2,(data[i-2][2]+data[i-2][3])/2,(data[i-3][2]+data[i-3][3])/2,(data[i-4][2]+data[i-4][3])/2,(data[i-5][2]+data[i-5][3])/2,(data[i-6][2]+data[i-6][3])/2,(data[i-7][2]+data[i-7][3])/2])\n",
    "        avg_temp = (data[i][2]+data[i][3])/2\n",
    "        Y.append(avg_temp)\n",
    "    return X,Y"
   ]
  },
  {
   "cell_type": "code",
   "execution_count": 495,
   "id": "3c085f41",
   "metadata": {},
   "outputs": [],
   "source": [
    "#get X,Y\n",
    "X,Y= preprocess_data(day_data)\n",
    "\n",
    "#split data\n",
    "nb_samples = len(Y)\n",
    "test_split = 0.1\n",
    "\n",
    "X_train = X[0:int(nb_samples*(1-valid_split-test_split))]\n",
    "Y_train = Y[0:int(nb_samples*(1-valid_split-test_split))]\n",
    "X_test  = X[int(nb_samples*(1-test_split)):]\n",
    "Y_test  = Y[int(nb_samples*(1-test_split)):]"
   ]
  },
  {
   "cell_type": "code",
   "execution_count": 507,
   "id": "2ae0ce62",
   "metadata": {},
   "outputs": [
    {
     "name": "stdout",
     "output_type": "stream",
     "text": [
      "2510\n"
     ]
    }
   ],
   "source": [
    "#training data is vector with length of 8\n",
    "#[day_of_the_year,last 7 days avg temperature values]\n",
    "print(len(X_train[0]))"
   ]
  },
  {
   "cell_type": "code",
   "execution_count": 497,
   "id": "c1290d74",
   "metadata": {},
   "outputs": [],
   "source": [
    "from sklearn import preprocessing\n",
    "import numpy as np\n",
    "\n",
    "#convert data to numpy array\n",
    "X_train = np.array(X_train, dtype=np.float32)\n",
    "X_test  = np.array(X_test, dtype=np.float32)\n",
    "\n",
    "\n",
    "Y_train = np.array(Y_train, dtype=np.float32)\n",
    "Y_test  = np.array(Y_test, dtype=np.float32)\n",
    "\n",
    "#Standardization\n",
    "scaler = preprocessing.StandardScaler().fit(X_train)\n",
    "X_train = scaler.transform(X_train)\n",
    "X_test  = scaler.transform(X_test)"
   ]
  },
  {
   "cell_type": "code",
   "execution_count": 521,
   "id": "f9de1bb1",
   "metadata": {},
   "outputs": [],
   "source": [
    "from keras.models import Sequential\n",
    "import tensorflow as tf\n",
    "from tensorflow import keras\n",
    "from keras.layers import Dense\n",
    "from tensorflow.keras.optimizers import Adam\n",
    "\n",
    "#Model\n",
    "model= Sequential()\n",
    "\n",
    "#4 layer model with dense layers, linear regression\n",
    "model.add(Dense(units=15,input_shape=(8,),activation='sigmoid'))\n",
    "model.add(Dense(units=256,activation='relu'))\n",
    "model.add(Dense(units=64,activation='sigmoid')) \n",
    "model.add(Dense(units=1,activation='linear'))\n",
    "\n",
    "# Using adam optimizer with small learning rate\n",
    "model.compile(loss='mse',optimizer=Adam(learning_rate=0.0005))"
   ]
  },
  {
   "cell_type": "code",
   "execution_count": 522,
   "id": "eed5de1b",
   "metadata": {
    "scrolled": true
   },
   "outputs": [
    {
     "name": "stdout",
     "output_type": "stream",
     "text": [
      "Epoch 1/100\n",
      "51/51 - 1s - loss: 254.3617 - val_loss: 205.0439 - 788ms/epoch - 15ms/step\n",
      "Epoch 2/100\n",
      "51/51 - 0s - loss: 168.0880 - val_loss: 147.6796 - 357ms/epoch - 7ms/step\n",
      "Epoch 3/100\n",
      "51/51 - 0s - loss: 138.9097 - val_loss: 132.3293 - 191ms/epoch - 4ms/step\n",
      "Epoch 4/100\n",
      "51/51 - 0s - loss: 126.2368 - val_loss: 120.5999 - 112ms/epoch - 2ms/step\n",
      "Epoch 5/100\n",
      "51/51 - 0s - loss: 114.4479 - val_loss: 107.0919 - 132ms/epoch - 3ms/step\n",
      "Epoch 6/100\n",
      "51/51 - 0s - loss: 101.5348 - val_loss: 94.6255 - 123ms/epoch - 2ms/step\n",
      "Epoch 7/100\n",
      "51/51 - 0s - loss: 90.6755 - val_loss: 84.7380 - 128ms/epoch - 3ms/step\n",
      "Epoch 8/100\n",
      "51/51 - 0s - loss: 81.6700 - val_loss: 76.4363 - 125ms/epoch - 2ms/step\n",
      "Epoch 9/100\n",
      "51/51 - 0s - loss: 74.0604 - val_loss: 69.0177 - 129ms/epoch - 3ms/step\n",
      "Epoch 10/100\n",
      "51/51 - 0s - loss: 67.4242 - val_loss: 62.5054 - 133ms/epoch - 3ms/step\n",
      "Epoch 11/100\n",
      "51/51 - 0s - loss: 61.5409 - val_loss: 56.6081 - 302ms/epoch - 6ms/step\n",
      "Epoch 12/100\n",
      "51/51 - 0s - loss: 56.2098 - val_loss: 51.5025 - 260ms/epoch - 5ms/step\n",
      "Epoch 13/100\n",
      "51/51 - 0s - loss: 51.5720 - val_loss: 46.7010 - 163ms/epoch - 3ms/step\n",
      "Epoch 14/100\n",
      "51/51 - 0s - loss: 47.2747 - val_loss: 42.4300 - 228ms/epoch - 4ms/step\n",
      "Epoch 15/100\n",
      "51/51 - 0s - loss: 43.4725 - val_loss: 38.6819 - 188ms/epoch - 4ms/step\n",
      "Epoch 16/100\n",
      "51/51 - 0s - loss: 40.0345 - val_loss: 35.3035 - 128ms/epoch - 3ms/step\n",
      "Epoch 17/100\n",
      "51/51 - 0s - loss: 36.9538 - val_loss: 32.2885 - 132ms/epoch - 3ms/step\n",
      "Epoch 18/100\n",
      "51/51 - 0s - loss: 34.1439 - val_loss: 29.5546 - 136ms/epoch - 3ms/step\n",
      "Epoch 19/100\n",
      "51/51 - 0s - loss: 31.5789 - val_loss: 27.1212 - 157ms/epoch - 3ms/step\n",
      "Epoch 20/100\n",
      "51/51 - 0s - loss: 29.2834 - val_loss: 24.9202 - 134ms/epoch - 3ms/step\n",
      "Epoch 21/100\n",
      "51/51 - 0s - loss: 27.1701 - val_loss: 22.8975 - 152ms/epoch - 3ms/step\n",
      "Epoch 22/100\n",
      "51/51 - 0s - loss: 25.2521 - val_loss: 21.0812 - 346ms/epoch - 7ms/step\n",
      "Epoch 23/100\n",
      "51/51 - 0s - loss: 23.4864 - val_loss: 19.4474 - 326ms/epoch - 6ms/step\n",
      "Epoch 24/100\n",
      "51/51 - 0s - loss: 21.8905 - val_loss: 17.9638 - 224ms/epoch - 4ms/step\n",
      "Epoch 25/100\n",
      "51/51 - 0s - loss: 20.4104 - val_loss: 16.6224 - 184ms/epoch - 4ms/step\n",
      "Epoch 26/100\n",
      "51/51 - 0s - loss: 19.1034 - val_loss: 15.4244 - 204ms/epoch - 4ms/step\n",
      "Epoch 27/100\n",
      "51/51 - 0s - loss: 17.9624 - val_loss: 14.5201 - 147ms/epoch - 3ms/step\n",
      "Epoch 28/100\n",
      "51/51 - 0s - loss: 16.8596 - val_loss: 13.4637 - 242ms/epoch - 5ms/step\n",
      "Epoch 29/100\n",
      "51/51 - 0s - loss: 15.8582 - val_loss: 12.5431 - 108ms/epoch - 2ms/step\n",
      "Epoch 30/100\n",
      "51/51 - 0s - loss: 14.9712 - val_loss: 11.7187 - 115ms/epoch - 2ms/step\n",
      "Epoch 31/100\n",
      "51/51 - 0s - loss: 14.1536 - val_loss: 11.0739 - 108ms/epoch - 2ms/step\n",
      "Epoch 32/100\n",
      "51/51 - 0s - loss: 13.4261 - val_loss: 10.4425 - 112ms/epoch - 2ms/step\n",
      "Epoch 33/100\n",
      "51/51 - 0s - loss: 12.7715 - val_loss: 9.9270 - 218ms/epoch - 4ms/step\n",
      "Epoch 34/100\n",
      "51/51 - 0s - loss: 12.1658 - val_loss: 9.4668 - 109ms/epoch - 2ms/step\n",
      "Epoch 35/100\n",
      "51/51 - 0s - loss: 11.7362 - val_loss: 8.9508 - 114ms/epoch - 2ms/step\n",
      "Epoch 36/100\n",
      "51/51 - 0s - loss: 11.2132 - val_loss: 8.4989 - 164ms/epoch - 3ms/step\n",
      "Epoch 37/100\n",
      "51/51 - 0s - loss: 10.6693 - val_loss: 8.1119 - 145ms/epoch - 3ms/step\n",
      "Epoch 38/100\n",
      "51/51 - 0s - loss: 10.2428 - val_loss: 7.7595 - 250ms/epoch - 5ms/step\n",
      "Epoch 39/100\n",
      "51/51 - 0s - loss: 9.8598 - val_loss: 7.4781 - 107ms/epoch - 2ms/step\n",
      "Epoch 40/100\n",
      "51/51 - 0s - loss: 9.4806 - val_loss: 7.1956 - 110ms/epoch - 2ms/step\n",
      "Epoch 41/100\n",
      "51/51 - 0s - loss: 9.1735 - val_loss: 6.9007 - 107ms/epoch - 2ms/step\n",
      "Epoch 42/100\n",
      "51/51 - 0s - loss: 8.8908 - val_loss: 6.6930 - 108ms/epoch - 2ms/step\n",
      "Epoch 43/100\n",
      "51/51 - 0s - loss: 8.6015 - val_loss: 6.4778 - 113ms/epoch - 2ms/step\n",
      "Epoch 44/100\n",
      "51/51 - 0s - loss: 8.3369 - val_loss: 6.2925 - 103ms/epoch - 2ms/step\n",
      "Epoch 45/100\n",
      "51/51 - 0s - loss: 8.0856 - val_loss: 6.2794 - 107ms/epoch - 2ms/step\n",
      "Epoch 46/100\n",
      "51/51 - 0s - loss: 7.9287 - val_loss: 5.9978 - 122ms/epoch - 2ms/step\n",
      "Epoch 47/100\n",
      "51/51 - 0s - loss: 7.6950 - val_loss: 5.8479 - 113ms/epoch - 2ms/step\n",
      "Epoch 48/100\n",
      "51/51 - 0s - loss: 7.5105 - val_loss: 5.7372 - 112ms/epoch - 2ms/step\n",
      "Epoch 49/100\n",
      "51/51 - 0s - loss: 7.3830 - val_loss: 5.5987 - 113ms/epoch - 2ms/step\n",
      "Epoch 50/100\n",
      "51/51 - 0s - loss: 7.1691 - val_loss: 5.4842 - 112ms/epoch - 2ms/step\n",
      "Epoch 51/100\n",
      "51/51 - 0s - loss: 7.0514 - val_loss: 5.3798 - 108ms/epoch - 2ms/step\n",
      "Epoch 52/100\n",
      "51/51 - 0s - loss: 6.9697 - val_loss: 5.3499 - 112ms/epoch - 2ms/step\n",
      "Epoch 53/100\n",
      "51/51 - 0s - loss: 6.7657 - val_loss: 5.2757 - 118ms/epoch - 2ms/step\n",
      "Epoch 54/100\n",
      "51/51 - 0s - loss: 6.6793 - val_loss: 5.1512 - 111ms/epoch - 2ms/step\n",
      "Epoch 55/100\n",
      "51/51 - 0s - loss: 6.5353 - val_loss: 5.1177 - 113ms/epoch - 2ms/step\n",
      "Epoch 56/100\n",
      "51/51 - 0s - loss: 6.4574 - val_loss: 5.0691 - 112ms/epoch - 2ms/step\n",
      "Epoch 57/100\n",
      "51/51 - 0s - loss: 6.4080 - val_loss: 5.0303 - 106ms/epoch - 2ms/step\n",
      "Epoch 58/100\n",
      "51/51 - 0s - loss: 6.2713 - val_loss: 4.9377 - 118ms/epoch - 2ms/step\n",
      "Epoch 59/100\n",
      "51/51 - 0s - loss: 6.1945 - val_loss: 4.8809 - 113ms/epoch - 2ms/step\n",
      "Epoch 60/100\n",
      "51/51 - 0s - loss: 6.1234 - val_loss: 4.8164 - 115ms/epoch - 2ms/step\n",
      "Epoch 61/100\n",
      "51/51 - 0s - loss: 6.0639 - val_loss: 4.7844 - 112ms/epoch - 2ms/step\n",
      "Epoch 62/100\n",
      "51/51 - 0s - loss: 5.9740 - val_loss: 4.7625 - 112ms/epoch - 2ms/step\n",
      "Epoch 63/100\n",
      "51/51 - 0s - loss: 5.9490 - val_loss: 4.7425 - 113ms/epoch - 2ms/step\n",
      "Epoch 64/100\n",
      "51/51 - 0s - loss: 5.8980 - val_loss: 4.7919 - 114ms/epoch - 2ms/step\n",
      "Epoch 65/100\n",
      "51/51 - 0s - loss: 5.8414 - val_loss: 4.7442 - 107ms/epoch - 2ms/step\n",
      "Epoch 66/100\n",
      "51/51 - 0s - loss: 5.8694 - val_loss: 4.6738 - 113ms/epoch - 2ms/step\n",
      "Epoch 67/100\n",
      "51/51 - 0s - loss: 5.7629 - val_loss: 4.6818 - 114ms/epoch - 2ms/step\n",
      "Epoch 68/100\n",
      "51/51 - 0s - loss: 5.7439 - val_loss: 4.6396 - 110ms/epoch - 2ms/step\n",
      "Epoch 69/100\n",
      "51/51 - 0s - loss: 5.6366 - val_loss: 4.5769 - 111ms/epoch - 2ms/step\n",
      "Epoch 70/100\n",
      "51/51 - 0s - loss: 5.5943 - val_loss: 4.6206 - 111ms/epoch - 2ms/step\n",
      "Epoch 71/100\n",
      "51/51 - 0s - loss: 5.5722 - val_loss: 4.5477 - 207ms/epoch - 4ms/step\n",
      "Epoch 72/100\n",
      "51/51 - 0s - loss: 5.5602 - val_loss: 4.5296 - 147ms/epoch - 3ms/step\n",
      "Epoch 73/100\n",
      "51/51 - 0s - loss: 5.5190 - val_loss: 4.5653 - 124ms/epoch - 2ms/step\n",
      "Epoch 74/100\n",
      "51/51 - 0s - loss: 5.4974 - val_loss: 4.4977 - 250ms/epoch - 5ms/step\n",
      "Epoch 75/100\n",
      "51/51 - 0s - loss: 5.4919 - val_loss: 4.4926 - 191ms/epoch - 4ms/step\n",
      "Epoch 76/100\n",
      "51/51 - 0s - loss: 5.4535 - val_loss: 4.4915 - 117ms/epoch - 2ms/step\n",
      "Epoch 77/100\n",
      "51/51 - 0s - loss: 5.4124 - val_loss: 4.5219 - 136ms/epoch - 3ms/step\n",
      "Epoch 78/100\n",
      "51/51 - 0s - loss: 5.4373 - val_loss: 4.5559 - 123ms/epoch - 2ms/step\n",
      "Epoch 79/100\n",
      "51/51 - 0s - loss: 5.4040 - val_loss: 4.5366 - 273ms/epoch - 5ms/step\n",
      "Epoch 80/100\n",
      "51/51 - 0s - loss: 5.3374 - val_loss: 4.5260 - 276ms/epoch - 5ms/step\n",
      "Epoch 81/100\n",
      "51/51 - 0s - loss: 5.3485 - val_loss: 4.5421 - 164ms/epoch - 3ms/step\n",
      "Epoch 82/100\n",
      "51/51 - 0s - loss: 5.2999 - val_loss: 4.4787 - 154ms/epoch - 3ms/step\n",
      "Epoch 83/100\n",
      "51/51 - 0s - loss: 5.3142 - val_loss: 4.4407 - 153ms/epoch - 3ms/step\n",
      "Epoch 84/100\n",
      "51/51 - 0s - loss: 5.3399 - val_loss: 4.4758 - 156ms/epoch - 3ms/step\n",
      "Epoch 85/100\n",
      "51/51 - 0s - loss: 5.2719 - val_loss: 4.4776 - 139ms/epoch - 3ms/step\n",
      "Epoch 86/100\n",
      "51/51 - 0s - loss: 5.2289 - val_loss: 4.4400 - 129ms/epoch - 3ms/step\n",
      "Epoch 87/100\n",
      "51/51 - 0s - loss: 5.2374 - val_loss: 4.5288 - 135ms/epoch - 3ms/step\n",
      "Epoch 88/100\n",
      "51/51 - 0s - loss: 5.2744 - val_loss: 4.4757 - 128ms/epoch - 3ms/step\n",
      "Epoch 89/100\n",
      "51/51 - 0s - loss: 5.2210 - val_loss: 4.4107 - 121ms/epoch - 2ms/step\n",
      "Epoch 90/100\n",
      "51/51 - 0s - loss: 5.2481 - val_loss: 4.4598 - 119ms/epoch - 2ms/step\n",
      "Epoch 91/100\n",
      "51/51 - 0s - loss: 5.1700 - val_loss: 4.4226 - 143ms/epoch - 3ms/step\n",
      "Epoch 92/100\n",
      "51/51 - 0s - loss: 5.1782 - val_loss: 4.4622 - 142ms/epoch - 3ms/step\n",
      "Epoch 93/100\n",
      "51/51 - 0s - loss: 5.2124 - val_loss: 4.4477 - 140ms/epoch - 3ms/step\n",
      "Epoch 94/100\n",
      "51/51 - 0s - loss: 5.2295 - val_loss: 4.4210 - 149ms/epoch - 3ms/step\n",
      "Epoch 95/100\n",
      "51/51 - 0s - loss: 5.1675 - val_loss: 4.4046 - 145ms/epoch - 3ms/step\n",
      "Epoch 96/100\n",
      "51/51 - 0s - loss: 5.1375 - val_loss: 4.6959 - 146ms/epoch - 3ms/step\n",
      "Epoch 97/100\n",
      "51/51 - 0s - loss: 5.1523 - val_loss: 4.4644 - 134ms/epoch - 3ms/step\n",
      "Epoch 98/100\n",
      "51/51 - 0s - loss: 5.1260 - val_loss: 4.5078 - 134ms/epoch - 3ms/step\n"
     ]
    },
    {
     "name": "stdout",
     "output_type": "stream",
     "text": [
      "Epoch 99/100\n",
      "51/51 - 0s - loss: 5.1669 - val_loss: 4.4129 - 128ms/epoch - 3ms/step\n",
      "Epoch 100/100\n",
      "51/51 - 0s - loss: 5.1183 - val_loss: 4.4118 - 120ms/epoch - 2ms/step\n"
     ]
    }
   ],
   "source": [
    "# Training\n",
    "history=model.fit(X_train,Y_train,epochs=100,verbose=2,batch_size=40, validation_split=0.2)"
   ]
  },
  {
   "cell_type": "code",
   "execution_count": 515,
   "id": "b13c4388",
   "metadata": {},
   "outputs": [
    {
     "data": {
      "text/plain": [
       "<AxesSubplot:>"
      ]
     },
     "execution_count": 515,
     "metadata": {},
     "output_type": "execute_result"
    },
    {
     "data": {
      "image/png": "[encoded data removed]",
      "text/plain": [
       "<Figure size 864x576 with 1 Axes>"
      ]
     },
     "metadata": {
      "needs_background": "light"
     },
     "output_type": "display_data"
    }
   ],
   "source": [
    "# Training loss visualization\n",
    "import pandas as pd\n",
    "\n",
    "loss_df = pd.DataFrame(model.history.history)\n",
    "loss_df.plot(figsize=(12,8))"
   ]
  },
  {
   "cell_type": "code",
   "execution_count": 519,
   "id": "639fa9b4",
   "metadata": {},
   "outputs": [],
   "source": [
    "#preicit for test data\n",
    "Y_pred = model.predict(X_test)"
   ]
  },
  {
   "cell_type": "code",
   "execution_count": 520,
   "id": "ef75580c",
   "metadata": {
    "scrolled": false
   },
   "outputs": [
    {
     "name": "stdout",
     "output_type": "stream",
     "text": [
      "MAE: 1.8383571\n",
      "MSE: 5.203668\n",
      "RMSE: 2.281155\n"
     ]
    },
    {
     "data": {
      "image/png": "[encoded data removed]",
      "text/plain": [
       "<Figure size 864x360 with 1 Axes>"
      ]
     },
     "metadata": {
      "needs_background": "light"
     },
     "output_type": "display_data"
    }
   ],
   "source": [
    "from sklearn import metrics\n",
    "import matplotlib.pyplot as plt\n",
    "\n",
    "# Errors\n",
    "print('MAE:', metrics.mean_absolute_error(Y_test, Y_pred))  \n",
    "print('MSE:', metrics.mean_squared_error(Y_test, Y_pred))  \n",
    "print('RMSE:', np.sqrt(metrics.mean_squared_error(Y_test, Y_pred)))\n",
    "\n",
    "# Visualizing predictions\n",
    "fig = plt.figure(figsize=(12,5))\n",
    "plt.scatter(Y_test,Y_pred)\n",
    "\n",
    "# The line shows perfect predictions\n",
    "plt.plot(Y_test,Y_test,'r')\n",
    "plt.show()"
   ]
  },
  {
   "cell_type": "markdown",
   "id": "8b4a148a",
   "metadata": {},
   "source": [
    "### Method:"
   ]
  },
  {
   "cell_type": "code",
   "execution_count": 523,
   "id": "3655d292",
   "metadata": {},
   "outputs": [],
   "source": [
    "# Method 1:\n",
    "\n",
    "# Algorithm:\n",
    "# Calculates the prediction for next day from the values\n",
    "# Writes this value in the new vector, calculates next day\n",
    "\n",
    "# This algorithm is unreliable for the long-term, the error grows rapidly, it would be better to train neural network on other data (indirectly to predict the temperature a month from now)\n",
    "\n",
    "def calc_temp_on_day_from_now(day):\n",
    "    future_X=[]\n",
    "    future_Y=[]\n",
    "    \n",
    "    #the last data we have is from November 7th\n",
    "    future_X.append(X[-1])\n",
    "    \n",
    "    # Make the new vector for November 8th by adding the temperature of Nov 7th\n",
    "    future_X.append([future_X[0][0]+1,future_X[0][2],future_X[0][3],future_X[0][4],future_X[0][5],future_X[0][6],future_X[0][7],Y_test[-1]]) #nov 7\n",
    "    \n",
    "    # Scale the data, transform to numpy array\n",
    "    future_X_sc= scaler.transform(future_X)\n",
    "    future_X_sc= np.array(future_X_sc, dtype=np.float32)\n",
    "    \n",
    "    # Predict the temperature the day from now\n",
    "    for i in range(day):\n",
    "        # Predict the new temperature\n",
    "        future_Y = model.predict(future_X_sc)\n",
    "        # Update the vectors by adding the new one\n",
    "        future_X.append([future_X[-1][0]+1,future_X[-1][2],future_X[-1][3],future_X[-1][4],future_X[-1][5],future_X[-1][6],future_X[-1][7],future_Y[-1]])\n",
    "        \n",
    "        #Convert data for prediction\n",
    "        future_X_sc= scaler.transform(future_X)\n",
    "        future_X_sc= np.array(future_X_sc, dtype=np.float32)\n",
    "    return future_Y \n",
    "    "
   ]
  },
  {
   "cell_type": "code",
   "execution_count": 525,
   "id": "4d62576e",
   "metadata": {
    "scrolled": true
   },
   "outputs": [
    {
     "name": "stdout",
     "output_type": "stream",
     "text": [
      "Predicted temp for Nov. 8th:[10.226621]\n",
      "Predicted temp for Nov. 15th:[9.246916]\n",
      "Predicted temp for Dec. 6th:[6.9527884]\n"
     ]
    }
   ],
   "source": [
    "# The last data we have is from November 7th (311th day of the year)\n",
    "\n",
    "# November 8 (312th day of the year) (1 days from our last data)\n",
    "pred_Y=calc_temp_on_day_from_now(1)\n",
    "pred_nov_8=pred_Y[-1]\n",
    "print('Predicted temp for Nov. 8th:'+str(pred_nov_8))\n",
    "\n",
    "# November 15 (319th day of the year) (8 days from our last data)\n",
    "pred_Y=calc_temp_on_day_from_now(8)\n",
    "pred_nov_15=pred_Y[-1]\n",
    "print('Predicted temp for Nov. 15th:'+str(pred_nov_15))\n",
    "\n",
    "# December 6 (340th day of the year) (29 days from our last data)\n",
    "pred_Y=calc_temp_on_day_from_now(29)\n",
    "pred_dec_6=pred_Y[-1]\n",
    "print('Predicted temp for Dec. 6th:'+str(pred_dec_6))"
   ]
  }
 ],
 "metadata": {
  "kernelspec": {
   "display_name": "Python 3 (ipykernel)",
   "language": "python",
   "name": "python3"
  },
  "language_info": {
   "codemirror_mode": {
    "name": "ipython",
    "version": 3
   },
   "file_extension": ".py",
   "mimetype": "text/x-python",
   "name": "python",
   "nbconvert_exporter": "python",
   "pygments_lexer": "ipython3",
   "version": "3.9.7"
  }
 },
 "nbformat": 4,
 "nbformat_minor": 5
}
